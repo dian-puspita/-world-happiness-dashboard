{
 "cells": [
  {
   "cell_type": "markdown",
   "id": "fd70b0d6",
   "metadata": {},
   "source": [
    "# 🌍 Exploratory Data Analysis - World Happiness Report (2015–2019)\n"
   ]
  },
  {
   "cell_type": "markdown",
   "id": "dc8a1577",
   "metadata": {},
   "source": [
    "## Pendahuluan\n",
    "\n",
    "Dataset ini berisi laporan kebahagiaan dunia (World Happiness Report) dari tahun 2015 hingga 2019. \n",
    "Setiap baris mewakili satu negara pada satu tahun tertentu, dengan beberapa fitur yang berkontribusi pada skor kebahagiaan (Happiness Score).\n",
    "\n",
    "**Tujuan EDA:**\n",
    "- Membersihkan data (handling missing values & duplicates)\n",
    "- Melakukan eksplorasi data deskriptif\n",
    "- Menyiapkan data untuk dashboard interaktif Streamlit\n"
   ]
  },
  {
   "cell_type": "markdown",
   "id": "ee1a1741",
   "metadata": {},
   "source": [
    "1. Import dan Load Data"
   ]
  },
  {
   "cell_type": "code",
   "execution_count": null,
   "id": "299a1030",
   "metadata": {
    "vscode": {
     "languageId": "plaintext"
    }
   },
   "outputs": [],
   "source": [
    "# Import library\n",
    "import pandas as pd\n",
    "import numpy as np\n",
    "import matplotlib.pyplot as plt\n",
    "import seaborn as sns\n",
    "import os\n",
    "\n",
    "# Load semua file dari 2015–2019\n",
    "data_path = \"data\"\n",
    "years = range(2015, 2020)\n",
    "dfs = []\n",
    "\n",
    "for year in years:\n",
    "    file_path = os.path.join(data_path, f\"{year}.csv\")\n",
    "    df = pd.read_csv(file_path)\n",
    "    df[\"Year\"] = year\n",
    "    dfs.append(df)\n",
    "\n",
    "# Gabungkan semua tahun\n",
    "df_all = pd.concat(dfs, ignore_index=True)\n",
    "\n",
    "# Tampilkan info awal\n",
    "print(\"Shape:\", df_all.shape)\n",
    "df_all.head()\n"
   ]
  },
  {
   "cell_type": "markdown",
   "id": "1464deed",
   "metadata": {},
   "source": [
    "2. Pemeriksaan Awal dan Cleaning"
   ]
  },
  {
   "cell_type": "code",
   "execution_count": null,
   "id": "a1004dab",
   "metadata": {
    "vscode": {
     "languageId": "plaintext"
    }
   },
   "outputs": [],
   "source": [
    "# Info kolom\n",
    "df_all.info()\n",
    "\n",
    "# Cek missing value\n",
    "df_all.isnull().sum()\n",
    "\n",
    "# Cek duplikat\n",
    "print(\"Jumlah duplikat:\", df_all.duplicated().sum())\n",
    "\n",
    "# Hapus duplikat\n",
    "df_all = df_all.drop_duplicates()\n"
   ]
  },
  {
   "cell_type": "markdown",
   "id": "67057aaa",
   "metadata": {},
   "source": [
    "3. Visualisasi Distribusi & Korelasi"
   ]
  },
  {
   "cell_type": "code",
   "execution_count": null,
   "id": "0ac663b2",
   "metadata": {
    "vscode": {
     "languageId": "plaintext"
    }
   },
   "outputs": [],
   "source": [
    "# Visualisasi distribusi skor kebahagiaan\n",
    "plt.figure(figsize=(8,5))\n",
    "sns.histplot(df_all['Happiness Score'], bins=30, kde=True)\n",
    "plt.title(\"Distribusi Happiness Score\")\n",
    "plt.xlabel(\"Happiness Score\")\n",
    "plt.show()\n",
    "\n",
    "# Korelasi antar fitur (jika kolom sesuai)\n",
    "numeric_cols = df_all.select_dtypes(include=np.number)\n",
    "plt.figure(figsize=(10, 8))\n",
    "sns.heatmap(numeric_cols.corr(), annot=True, cmap='coolwarm', fmt=\".2f\")\n",
    "plt.title(\"Korelasi Antar Variabel Numerik\")\n",
    "plt.show()\n"
   ]
  },
  {
   "cell_type": "markdown",
   "id": "e2dd4a01",
   "metadata": {},
   "source": [
    "4. Simpan Versi Bersih"
   ]
  },
  {
   "cell_type": "code",
   "execution_count": null,
   "id": "6fcf4f8a",
   "metadata": {
    "vscode": {
     "languageId": "plaintext"
    }
   },
   "outputs": [],
   "source": [
    "# Simpan hasil bersih ke file baru\n",
    "df_all.to_csv(\"world_happiness_clean.csv\", index=False)"
   ]
  }
 ],
 "metadata": {
  "language_info": {
   "name": "python"
  }
 },
 "nbformat": 4,
 "nbformat_minor": 5
}
