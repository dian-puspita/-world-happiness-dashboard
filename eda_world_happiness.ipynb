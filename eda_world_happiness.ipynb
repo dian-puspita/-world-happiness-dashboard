{
 "cells": [
  {
   "cell_type": "markdown",
   "id": "fd70b0d6",
   "metadata": {},
   "source": [
    "# 🌍 Exploratory Data Analysis - World Happiness Report (2015–2019)\n"
   ]
  },
  {
   "cell_type": "markdown",
   "id": "2aa2402b",
   "metadata": {},
   "source": [
    "## Pendahuluan\n",
    "\n",
    "Dataset ini berisi laporan kebahagiaan dunia (World Happiness Report) dari tahun 2015 hingga 2019. \n",
    "Setiap baris mewakili satu negara pada satu tahun tertentu, dengan beberapa fitur yang berkontribusi pada skor kebahagiaan (Happiness Score).\n",
    "\n",
    "**Tujuan EDA:**\n",
    "- Membersihkan data (handling missing values & duplicates)\n",
    "- Melakukan eksplorasi data deskriptif\n",
    "- Menyiapkan data untuk dashboard interaktif Streamlit\n"
   ]
  },
  {
   "cell_type": "markdown",
   "id": "ee1a1741",
   "metadata": {},
   "source": [
    "1. Import dan Gabungkan Data"
   ]
  },
  {
   "cell_type": "code",
   "execution_count": 20,
   "id": "299a1030",
   "metadata": {},
   "outputs": [
    {
     "name": "stdout",
     "output_type": "stream",
     "text": [
      "File yang ditemukan: ['2015.csv', '2016.csv', '2017.csv', '2018.csv', '2019.csv']\n",
      "Ukuran data gabungan: (782, 17)\n"
     ]
    }
   ],
   "source": [
    "# Import Library\n",
    "import pandas as pd\n",
    "import os\n",
    "\n",
    "# Lokasi file data tahunan (dalam folder 'data')\n",
    "data_path = \"data\"\n",
    "files = sorted([f for f in os.listdir(data_path) if f.endswith(\".csv\")])\n",
    "print(\"File yang ditemukan:\", files)\n",
    "\n",
    "# Mapping nama kolom agar seragam dari berbagai tahun\n",
    "column_mapping = {\n",
    "    'Happiness.Rank': 'Happiness Rank',\n",
    "    'Overall rank': 'Happiness Rank',\n",
    "    'Happiness.Score': 'Happiness Score',\n",
    "    'Score': 'Happiness Score',\n",
    "    'Country or region': 'Country',\n",
    "    'Country': 'Country',\n",
    "    'Economy (GDP per Capita)': 'GDP per capita',\n",
    "    'Economy..GDP.per.Capita.': 'GDP per capita',\n",
    "    'GDP per capita': 'GDP per capita',\n",
    "    'Health (Life Expectancy)': 'Healthy life expectancy',\n",
    "    'Health..Life.Expectancy.': 'Healthy life expectancy',\n",
    "    'Healthy life expectancy': 'Healthy life expectancy',\n",
    "    'Family': 'Social support',\n",
    "    'Social support': 'Social support',\n",
    "    'Freedom': 'Freedom to make life choices',\n",
    "    'Freedom to make life choices': 'Freedom to make life choices',\n",
    "    'Trust (Government Corruption)': 'Perceptions of corruption',\n",
    "    'Trust..Government.Corruption.': 'Perceptions of corruption',\n",
    "    'Perceptions of corruption': 'Perceptions of corruption',\n",
    "    'Generosity': 'Generosity',\n",
    "    'Dystopia.Residual': 'Dystopia Residual',\n",
    "    'Dystopia Residual': 'Dystopia Residual',\n",
    "}\n",
    "\n",
    "# Inisialisasi list kosong\n",
    "all_dfs = []\n",
    "\n",
    "for file in files:\n",
    "    year = int(file.replace(\".csv\", \"\"))\n",
    "    df = pd.read_csv(os.path.join(data_path, file))\n",
    "\n",
    "    # Rename kolom\n",
    "    df.rename(columns=column_mapping, inplace=True)\n",
    "    df[\"Year\"] = year\n",
    "    all_dfs.append(df)\n",
    "\n",
    "# Gabungkan semua data\n",
    "df_all = pd.concat(all_dfs, ignore_index=True)\n",
    "df_all = df_all.loc[:, ~df_all.columns.duplicated()]  # Hapus kolom duplikat\n",
    "print(\"Ukuran data gabungan:\", df_all.shape)\n"
   ]
  },
  {
   "cell_type": "markdown",
   "id": "1464deed",
   "metadata": {},
   "source": [
    "2. Pemeriksaan Awal dan Cleaning"
   ]
  },
  {
   "cell_type": "code",
   "execution_count": 21,
   "id": "a1004dab",
   "metadata": {},
   "outputs": [
    {
     "name": "stdout",
     "output_type": "stream",
     "text": [
      "Jumlah missing value sebelum pembersihan:\n",
      " Country                           0\n",
      "Year                              0\n",
      "Happiness Score                   0\n",
      "GDP per capita                    0\n",
      "Social support                    0\n",
      "Healthy life expectancy           0\n",
      "Freedom to make life choices      0\n",
      "Generosity                        0\n",
      "Perceptions of corruption         1\n",
      "Dystopia Residual               312\n",
      "dtype: int64\n",
      "Jumlah duplikat sebelum dihapus: 0\n",
      "Ukuran data setelah pembersihan: (782, 10)\n",
      "Jumlah missing value setelah pembersihan:\n",
      " Country                         0\n",
      "Year                            0\n",
      "Happiness Score                 0\n",
      "GDP per capita                  0\n",
      "Social support                  0\n",
      "Healthy life expectancy         0\n",
      "Freedom to make life choices    0\n",
      "Generosity                      0\n",
      "Perceptions of corruption       0\n",
      "Dystopia Residual               0\n",
      "dtype: int64\n"
     ]
    }
   ],
   "source": [
    "# Pilih hanya kolom yang dibutuhkan untuk dashboard\n",
    "main_columns = [\n",
    "    'Country', 'Year', 'Happiness Score', 'GDP per capita',\n",
    "    'Social support', 'Healthy life expectancy',\n",
    "    'Freedom to make life choices', 'Generosity',\n",
    "    'Perceptions of corruption', 'Dystopia Residual'\n",
    "]\n",
    "\n",
    "# Ambil kolom yang tersedia\n",
    "selected_columns = [col for col in main_columns if col in df_all.columns]\n",
    "df_clean = df_all[selected_columns]\n",
    "\n",
    "# Cek Missing Values awal\n",
    "print(\"Jumlah missing value sebelum pembersihan:\\n\", df_clean.isnull().sum())\n",
    "\n",
    "# Drop baris jika kolom krusial kosong (Country dan Happiness Score)\n",
    "df_clean = df_clean.dropna(subset=['Country', 'Happiness Score'])\n",
    "\n",
    "# Daftar faktor utama\n",
    "factors = [\n",
    "    'GDP per capita', 'Social support', 'Healthy life expectancy',\n",
    "    'Freedom to make life choices', 'Generosity',\n",
    "    'Perceptions of corruption', 'Dystopia Residual'\n",
    "]\n",
    "\n",
    "# Drop baris jika SEMUA nilai di faktor kosong (tapi biarkan jika hanya sebagian kosong)\n",
    "df_clean = df_clean.dropna(how='all', subset=factors)\n",
    "\n",
    "# Ganti nilai NaN yang tersisa pada faktor dengan 0 agar visualisasi aman (khusus pie chart)\n",
    "df_clean[factors] = df_clean[factors].fillna(0)\n",
    "\n",
    "# Drop duplikat\n",
    "print(\"Jumlah duplikat sebelum dihapus:\", df_clean.duplicated().sum())\n",
    "df_clean = df_clean.drop_duplicates()\n",
    "\n",
    "# Cek ulang\n",
    "print(\"Ukuran data setelah pembersihan:\", df_clean.shape)\n",
    "print(\"Jumlah missing value setelah pembersihan:\\n\", df_clean.isnull().sum())\n"
   ]
  },
  {
   "cell_type": "markdown",
   "id": "e2dd4a01",
   "metadata": {},
   "source": [
    "3. Simpan Versi Bersih"
   ]
  },
  {
   "cell_type": "code",
   "execution_count": 22,
   "id": "6fcf4f8a",
   "metadata": {},
   "outputs": [
    {
     "name": "stdout",
     "output_type": "stream",
     "text": [
      "Dataset bersih disimpan sebagai 'world_happiness_clean.csv'\n"
     ]
    }
   ],
   "source": [
    "# Simpan ke CSV\n",
    "df_clean.to_csv(\"world_happiness_clean.csv\", index=False)\n",
    "print(\"Dataset bersih disimpan sebagai 'world_happiness_clean.csv'\")"
   ]
  }
 ],
 "metadata": {
  "kernelspec": {
   "display_name": "Python (World Happiness)",
   "language": "python",
   "name": "world_happiness"
  },
  "language_info": {
   "codemirror_mode": {
    "name": "ipython",
    "version": 3
   },
   "file_extension": ".py",
   "mimetype": "text/x-python",
   "name": "python",
   "nbconvert_exporter": "python",
   "pygments_lexer": "ipython3",
   "version": "3.12.2"
  }
 },
 "nbformat": 4,
 "nbformat_minor": 5
}
